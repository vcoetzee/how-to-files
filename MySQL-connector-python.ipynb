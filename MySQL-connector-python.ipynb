{
 "cells": [
  {
   "cell_type": "markdown",
   "id": "bfa3f16a",
   "metadata": {},
   "source": [
    "# MySQL connector/ Python\n",
    "\n",
    "This is a detailed, step-by-step guide on how to connect to a mySQL database using the mySQL connector/ Python. This is a useful tool if you would like to query data, create tables, insert data etc from a python script. I, however, prefer using SQLalchemy to read mySQL data into a pandas dataframe for analysis in Python (see how-to-data-wrangle-using-python). This guide is aimed at beginners, using Microsoft Windows, that have data in a mySQL database. "
   ]
  },
  {
   "cell_type": "markdown",
   "id": "6a878d03",
   "metadata": {},
   "source": [
    "## 1. Install and import the necesary python libraries"
   ]
  },
  {
   "cell_type": "markdown",
   "id": "63cbb34a",
   "metadata": {},
   "source": [
    "I already have the most recent version of pandas installed, but you can install them using pip (see pypi.org) or conda install in Anaconda prompt (see anaconda.org). If you get the ImportError: cannot import name 'html5lib' from 'pip._vendor', you can install html5lib in Anaconda prompt (conda install -c anaconda html5lib)."
   ]
  },
  {
   "cell_type": "code",
   "execution_count": 6,
   "id": "54f511e6",
   "metadata": {},
   "outputs": [],
   "source": [
    "import pandas as pd"
   ]
  },
  {
   "cell_type": "markdown",
   "id": "590fc3b2",
   "metadata": {},
   "source": [
    "## 2. Installing the mySQL connector/ Python"
   ]
  },
  {
   "cell_type": "markdown",
   "id": "00789d5b",
   "metadata": {},
   "source": [
    "Use this link to install the mySQL connector/ Python (if you haven't already done so): https://dev.mysql.com/downloads/connector/python/ <br>\n",
    "You can also use pip install, see here: https://realpython.com/python-mysql/"
   ]
  },
  {
   "cell_type": "markdown",
   "id": "ab876489",
   "metadata": {},
   "source": [
    "## 3. Connect to the mySQL server & database"
   ]
  },
  {
   "cell_type": "markdown",
   "id": "4c254e66",
   "metadata": {},
   "source": [
    "Use the following code to connect to your mySQL database. The connector acts as an interface between your program and your MySQL database, and you send your SQL queries through them. \n",
    "<br>You will then be asked to enter your username and password. \n",
    "<br>(If you can't remember your username you can access it with the following query in mySQL8.0 command line client: SELECT * FROM mysql.user;)"
   ]
  },
  {
   "cell_type": "markdown",
   "id": "0d16b5c9",
   "metadata": {},
   "source": [
    "## 4. Read the data from the mySQL table"
   ]
  },
  {
   "cell_type": "code",
   "execution_count": 17,
   "id": "b73eb53a",
   "metadata": {},
   "outputs": [
    {
     "name": "stdout",
     "output_type": "stream",
     "text": [
      "Enter username: ADMIN\n",
      "Enter password: ········\n",
      "<mysql.connector.connection_cext.CMySQLConnection object at 0x0000022A5A020700>\n",
      "(1, Decimal('20.8'), 1, 9, 3, 2, 7, 1, 0, 0, 0, 0, 0, 4, 0, 1, 0, 2, 5, 8, 3, 3, 0, 0, 1, 6, 4, 4, 8, 6, 3, 0, None, 1, 1, 2, Decimal('119.0'), Decimal('71.5'), Decimal('64.0'), Decimal('56.2'), 176, Decimal('3.2'), Decimal('51.7'), Decimal('73.7'), Decimal('18.1'), 1, 12, 1599, Decimal('5.7'), Decimal('3.4'), Decimal('7.0'), Decimal('2.0'), Decimal('3.0'), Decimal('2.7'), Decimal('15.9'), Decimal('38.4'), Decimal('54.4'), Decimal('3.3'), Decimal('9.7'), Decimal('3.2'), Decimal('10.3'), Decimal('27.9'), Decimal('0.2'), Decimal('0.3'), Decimal('0.2'), Decimal('0.2'), Decimal('0.9'), Decimal('25.5'), Decimal('3.1'), Decimal('9.2'), Decimal('3.0'), Decimal('9.8'), Decimal('26.6'), 50, 50, Decimal('131.5'), Decimal('176.4'))\n",
      "(2, Decimal('20.6'), 0, None, 12, 2, 9, 2, 0, 0, 0, 0, 0, 2, 0, 7, 0, 0, 0, 5, 0, 5, 0, 0, 6, 8, 6, 6, 4, 2, 5, 0, None, 1, 0, 2, Decimal('119.0'), Decimal('74.0'), Decimal('77.0'), Decimal('47.9'), 166, Decimal('20.3'), Decimal('36.2'), Decimal('57.6'), Decimal('17.4'), 1, 12, 1206, Decimal('19.9'), Decimal('29.3'), Decimal('18.1'), Decimal('29.2'), Decimal('14.3'), Decimal('2.0'), Decimal('11.2'), Decimal('40.6'), Decimal('38.2'), Decimal('1.7'), Decimal('6.2'), Decimal('1.8'), Decimal('6.4'), Decimal('22.1'), Decimal('0.4'), Decimal('2.6'), Decimal('0.4'), Decimal('2.6'), Decimal('3.7'), Decimal('16.4'), Decimal('1.6'), Decimal('5.9'), Decimal('1.7'), Decimal('6.0'), Decimal('21.0'), 23, 26, Decimal('129.9'), Decimal('165.8'))\n",
      "(3, Decimal('19.9'), 0, 8, 10, 2, 4, 1, 1, 1, 1, 1, 0, 4, 0, 7, 0, 0, 2, 4, 1, 1, 0, 4, 0, 8, 0, 8, 3, 1, 2, 0, None, 0, None, None, Decimal('101.5'), Decimal('63.0'), Decimal('72.5'), Decimal('43.9'), 154, Decimal('20.0'), Decimal('33.3'), Decimal('57.9'), Decimal('18.5'), 1, 12, 1134, Decimal('23.9'), Decimal('29.7'), Decimal('22.5'), Decimal('30.1'), Decimal('11.8'), Decimal('1.8'), Decimal('10.4'), Decimal('40.9'), Decimal('35.1'), Decimal('1.5'), Decimal('5.9'), Decimal('1.6'), Decimal('6.0'), Decimal('20.1'), Decimal('0.5'), Decimal('2.5'), Decimal('0.5'), Decimal('2.6'), Decimal('2.7'), Decimal('15.0'), Decimal('1.4'), Decimal('5.6'), Decimal('1.5'), Decimal('5.7'), Decimal('19.1'), 22, 24, Decimal('123.2'), Decimal('154.0'))\n",
      "(4, Decimal('23.1'), 0, 4, 1, 2, 9, 1, 0, 1, 0, 0, 0, 4, 3, 5, 0, 0, 8, 2, 0, 4, 0, 0, 3, 1, 0, 5, 4, 1, 0, 0, None, 0, None, None, Decimal('117.0'), Decimal('78.0'), Decimal('74.0'), Decimal('74.8'), 159, Decimal('39.6'), Decimal('42.9'), Decimal('43.6'), Decimal('29.6'), 6, 38, 1441, Decimal('45.6'), Decimal('42.9'), Decimal('45.4'), Decimal('42.6'), Decimal('36.4'), Decimal('2.3'), Decimal('14.6'), Decimal('44.8'), Decimal('45.2'), Decimal('2.1'), Decimal('7.5'), Decimal('2.0'), Decimal('7.7'), Decimal('25.9'), Decimal('1.8'), Decimal('5.6'), Decimal('1.7'), Decimal('5.7'), Decimal('14.8'), Decimal('18.0'), Decimal('2.0'), Decimal('7.1'), Decimal('1.9'), Decimal('7.3'), Decimal('24.6'), 31, 35, Decimal('124.5'), Decimal('159.0'))\n",
      "(5, Decimal('22.5'), 0, 8, 7, 1, 9, 1, 1, 0, 0, 0, 0, 4, 0, 5, 3, 4, 7, 3, 4, 5, 0, 2, 2, 8, 5, 2, 0, 5, 6, 0, None, 0, None, None, Decimal('118.5'), Decimal('83.0'), Decimal('77.5'), Decimal('58.6'), 162, Decimal('24.6'), Decimal('42.0'), Decimal('54.4'), Decimal('22.3'), 1, 15, 1364, Decimal('26.1'), Decimal('34.6'), Decimal('23.0'), Decimal('35.1'), Decimal('17.5'), Decimal('2.2'), Decimal('13.0'), Decimal('40.8'), Decimal('44.2'), Decimal('2.1'), Decimal('6.9'), Decimal('2.2'), Decimal('7.0'), Decimal('26.0'), Decimal('0.7'), Decimal('3.7'), Decimal('0.7'), Decimal('3.8'), Decimal('5.5'), Decimal('18.9'), Decimal('2.0'), Decimal('6.5'), Decimal('2.1'), Decimal('6.6'), Decimal('24.8'), 24, 30, Decimal('127.5'), Decimal('162.5'))\n"
     ]
    }
   ],
   "source": [
    "# Connect to the mySQL server & database\n",
    "from getpass import getpass\n",
    "from mysql.connector import connect, Error\n",
    "\n",
    "try:\n",
    "    with connect(\n",
    "        host=\"localhost\",\n",
    "        user=input(\"Enter username: \"),\n",
    "        password=getpass(\"Enter password: \"),\n",
    "        database=\"database_name\",\n",
    "    ) as connection:\n",
    "        print(connection)\n",
    "        select_main_query = \"SELECT * FROM table_name LIMIT 5\" # query to show the first five rows from the table\n",
    "        with connection.cursor() as cursor:\n",
    "            cursor.execute(select_main_query)\n",
    "            result = cursor.fetchall()  # Fetch rows from last executed query\n",
    "            for row in result:\n",
    "                print(row)\n",
    "except Error as e:\n",
    "    print(e)"
   ]
  },
  {
   "cell_type": "markdown",
   "id": "930fc1d1",
   "metadata": {},
   "source": [
    "If successfull, you will get a MySQLConnection object, which is stored in the connection variable. You will use this variable to access your MySQL server from now on."
   ]
  },
  {
   "cell_type": "markdown",
   "id": "5b19cc13",
   "metadata": {},
   "source": [
    "## 5. Other tasks"
   ]
  },
  {
   "cell_type": "markdown",
   "id": "ffa4619f",
   "metadata": {},
   "source": [
    "Detailed instructions on how to Create tables, Insert data and query data is available here: https://dev.mysql.com/doc/connector-python/en/connector-python-examples.html"
   ]
  },
  {
   "cell_type": "code",
   "execution_count": null,
   "id": "8c8a7903",
   "metadata": {},
   "outputs": [],
   "source": []
  }
 ],
 "metadata": {
  "kernelspec": {
   "display_name": "Python 3 (ipykernel)",
   "language": "python",
   "name": "python3"
  },
  "language_info": {
   "codemirror_mode": {
    "name": "ipython",
    "version": 3
   },
   "file_extension": ".py",
   "mimetype": "text/x-python",
   "name": "python",
   "nbconvert_exporter": "python",
   "pygments_lexer": "ipython3",
   "version": "3.9.12"
  }
 },
 "nbformat": 4,
 "nbformat_minor": 5
}
