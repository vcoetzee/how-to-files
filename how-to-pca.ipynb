{
 "cells": [
  {
   "cell_type": "markdown",
   "id": "bfa3f16a",
   "metadata": {},
   "source": [
    "# How-to: Principal component analyses (PCA)"
   ]
  },
  {
   "cell_type": "markdown",
   "id": "6a878d03",
   "metadata": {},
   "source": [
    "## 1. Install and import the necesary packages and libraries"
   ]
  },
  {
   "cell_type": "markdown",
   "id": "2911ef7c",
   "metadata": {},
   "source": [
    "I already have the most recent versions of **pandas, numpy, seaborn, matplotlib and scikit learn** installed, but you can install them using pip (see pypi.org) or conda install in Anaconda prompt (see anaconda.org). If you get the ImportError: cannot import name 'html5lib' from 'pip._vendor', you can install html5lib in Anaconda prompt (conda install -c anaconda html5lib).\n",
    "\n",
    "Currently installed versions: \n",
    "<br>Pandas 1.4.4\n",
    "<br>numpy 1.21.5\n",
    "<br>seaborn 0.12.2\n",
    "<br>matplotlib 3.5.1\n",
    "<br>scikit learn 1.1.1"
   ]
  },
  {
   "cell_type": "code",
   "execution_count": null,
   "id": "def244e5",
   "metadata": {},
   "outputs": [],
   "source": [
    "import pandas as pd\n",
    "import numpy as np\n",
    "import seaborn as sns\n",
    "import matplotlib.pyplot as plt\n",
    "\n",
    "from sklearn.decomposition import PCA"
   ]
  },
  {
   "cell_type": "markdown",
   "id": "590fc3b2",
   "metadata": {},
   "source": [
    "## 2. Read csv file into Pandas dataframe"
   ]
  },
  {
   "cell_type": "code",
   "execution_count": null,
   "id": "1ba3d472",
   "metadata": {
    "scrolled": false
   },
   "outputs": [],
   "source": [
    "# Read the csv file into the pandas dataframe\n",
    "df = pd.read_csv('filename.csv')\n",
    "\n",
    "# If the rows are truncated so we can't see the full list, you can correct that with:\n",
    "pd.set_option('display.max_rows', None)\n",
    "\n",
    "# Let's display max columns too \n",
    "pd.set_option('display.max_columns', None)\n",
    "\n",
    "df.head()"
   ]
  },
  {
   "cell_type": "markdown",
   "id": "806e97a8",
   "metadata": {},
   "source": [
    "## 3. Principal component analysis (PCA)"
   ]
  },
  {
   "cell_type": "code",
   "execution_count": null,
   "id": "e472c428",
   "metadata": {
    "scrolled": true
   },
   "outputs": [],
   "source": [
    "# Selecting the variables you want to include in the PCA\n",
    "df2 = df[['variable1', 'variable2', 'variable2', 'variable4']]"
   ]
  },
  {
   "cell_type": "code",
   "execution_count": null,
   "id": "c117c286",
   "metadata": {},
   "outputs": [],
   "source": [
    "# Conduct the PCA\n",
    "pca_name = PCA(n_components=2) # Use n_components to specify the number of principal components you want\n",
    "principalComponents = pca_name.fit_transform(df2)\n",
    "\n",
    "# Create the df that will contain all the principal component values\n",
    "principal_df = pd.DataFrame(data = principalComponents\n",
    "             , columns = ['pc1', 'pc2']) # Increase the number of columns if you have more than 2 components\n",
    "\n",
    "# Check the results\n",
    "print(principal_df.head())"
   ]
  },
  {
   "cell_type": "code",
   "execution_count": null,
   "id": "6948cf58",
   "metadata": {},
   "outputs": [],
   "source": [
    "# Get the explained variance\n",
    "print('Explained variation per principal component: {}'.format(pca_name.explained_variance_ratio_))"
   ]
  },
  {
   "cell_type": "code",
   "execution_count": null,
   "id": "09078fcd",
   "metadata": {},
   "outputs": [],
   "source": [
    "# Calculate the total variance explained\n",
    "print('Total explained variance:')\n",
    "print(0.57+0.0.89) # Add the variances as calculated in the cell above (the values presented here is just an example)"
   ]
  },
  {
   "cell_type": "code",
   "execution_count": null,
   "id": "ccad1958",
   "metadata": {
    "scrolled": false
   },
   "outputs": [],
   "source": [
    "# Get the loadings on each of the principal components\n",
    "# Define feature_names\n",
    "feature_names = ['variable1', 'variable2', 'variable2', 'variable4']\n",
    "\n",
    "# Get loadings\n",
    "loadings = pca_name.components_.T * np.sqrt(pca_name.explained_variance_)\n",
    "loading_matrix=pd.DataFrame(loadings, columns=['pc1', 'pc2'], index = feature_names)\n",
    "print(loading_matrix.sort_values(by=['pc1'], ascending=False)) # Sorts the features according to the values for PC1"
   ]
  },
  {
   "cell_type": "code",
   "execution_count": null,
   "id": "dc9d1127",
   "metadata": {},
   "outputs": [],
   "source": [
    "# Add the PCs to the original dataframe (concatenate)\n",
    "df3 = pd.concat([df, principal_df], axis=1)\n",
    "print('shape', df3.shape)\n",
    "df3.tail()"
   ]
  },
  {
   "cell_type": "markdown",
   "id": "a927d7d7",
   "metadata": {},
   "source": [
    "## 4. Saving the dataset"
   ]
  },
  {
   "cell_type": "code",
   "execution_count": null,
   "id": "8bf4015a",
   "metadata": {},
   "outputs": [],
   "source": [
    "df3.to_csv('filename.csv')"
   ]
  }
 ],
 "metadata": {
  "kernelspec": {
   "display_name": "Python 3 (ipykernel)",
   "language": "python",
   "name": "python3"
  },
  "language_info": {
   "codemirror_mode": {
    "name": "ipython",
    "version": 3
   },
   "file_extension": ".py",
   "mimetype": "text/x-python",
   "name": "python",
   "nbconvert_exporter": "python",
   "pygments_lexer": "ipython3",
   "version": "3.9.12"
  }
 },
 "nbformat": 4,
 "nbformat_minor": 5
}
