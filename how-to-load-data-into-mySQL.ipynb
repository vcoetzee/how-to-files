{
 "cells": [
  {
   "cell_type": "markdown",
   "id": "7e943485",
   "metadata": {},
   "source": [
    "# How to load data in MySQL\n"
   ]
  },
  {
   "cell_type": "markdown",
   "id": "1e93254a",
   "metadata": {},
   "source": [
    "There are many ways to load data into a MySQL database. Here I provide detailed, step-by-step guides for some of these options, aimed at beginners using Microsoft Windows. They are by no means the only options. I also included some of my own conventions in this guide. They are not compulsory. \n",
    "The following options are described:\n",
    "    \n",
    "* Option 1. Upload data from .csv file using MySQL 8.0 Command line client \n",
    "* Option 2: Upload data from .csv file using MySQL Workbench\n",
    "* Option 3: Upload data from .txt file using MySQL 8.0 Command line client"
   ]
  },
  {
   "cell_type": "markdown",
   "id": "17420159",
   "metadata": {},
   "source": [
    "***"
   ]
  },
  {
   "cell_type": "markdown",
   "id": "997c6086",
   "metadata": {},
   "source": [
    "# Option 1. Upload data from .csv file using MySQL 8.0 Command line client "
   ]
  },
  {
   "cell_type": "markdown",
   "id": "48746ae3",
   "metadata": {},
   "source": [
    "You can either perform the initial editing steps in:\n",
    " (a) Microsoft Excel before uploading the data to mySQL or \n",
    " (b) in command line before uploading the data to mySQL or \n",
    " (c) later once the data is uploaded etc. \n",
    " \n",
    "Students often prefer to complete the initial steps in Excel, so I included that here.\n",
    "\n",
    "### 1.\tInitial steps in Microsoft Excel:\n",
    "* Change all headings to lowercase (using the “=LOWER(cell)” formula) and use “_” instead of spaces between multiple words in a single heading (my convention)\n",
    "* Replace missing values indicators (such as NA, #DIV/0!, #VALUE etc.) with “\\N” (to signify empty cells)\n",
    "* Delete empty rows\n",
    "* Replace commas (i.e. “,”) in decimal values with decimal points (i.e. “.”)\n",
    "* Calculate the minimum and max values for each column. This will be used in determining the data type later and helps you to identify outliers and other issues.\n",
    "* Use 2025-09-25 format for dates (change using format cells->date…)\n",
    "* Make sure that you only have a single tab\n",
    "\n",
    "### 2.\tSave the document as a .csv file\n",
    "* Find out which folder mySQL considers the “safe folder” using the following command in mySQL:\n",
    "    * mysql> show variables like \"secure_file_priv\"; (see step 4)\n",
    "* Save the .csv file you want to upload into that folder.\n",
    "\n",
    "### 3.\tPrepare a Microsoft Word or Notepad document with the variable names and their data types\n",
    "* The document should have the following format: variable1 DATATYPE, variable2 DATATYPE, etc.\n",
    "* See here for more info about the different data types in mySQL:https://dev.mysql.com/doc/refman/8.0/en/data-types.html\n",
    "* See https://dev.mysql.com/doc/refman/8.0/en/numeric-types.html for more information about storage implications for the different data types.\n",
    "* Check you file for formatting issues, such as double spaces etc. This will save you a lot of effort later. \n",
    "\n",
    "### 4.\tOpen MySQL 8.0 command line client\n",
    "* Enter password\n",
    "\n",
    "### 5.\tCreate a mySQL database (if it hasn’t been created previously) using the following command:\n",
    "* mysql> CREATE DATABASE test;\n",
    "\n",
    "### 6.\tCheck whether the database was created correctly (optional)\n",
    "* mysql> SHOW DATABASES ;\n",
    "\n",
    "### 7.\tTell mySQL to use that database\n",
    "* mysql> USE test;\n",
    "\n",
    "### 8.\tCreate a table in the database (This can be a very tedious and lengthy step, depending on the size of the database)\n",
    "* mysql> CREATE TABLE tablename (variable1 DATATYPE, variable2 DATATYPE, etc.);\n",
    "* Use the “variable name and data type” document you prepared earlier to copy the list directly into the statement.\n",
    "\n",
    "### 9.\tCheck whether the table was created \n",
    "* mysql> DESCRIBE tablename; \n",
    "\n",
    "### 10.\tLoad the data from the .csv file into the database\n",
    "* mysql> LOAD DATA INFILE 'file path.csv’ \n",
    "    <br>      -> INTO TABLE tablename\n",
    "    <br>      -> FIELDS TERMINATED BY ';'\n",
    "    <br>      -> LINES TERMINATED BY '\\n'\n",
    "    <br>      -> IGNORE 1 rows;\n",
    "    * Remember to use / , not \\ in the file path\n",
    "    * You can check which character is used to terminate your fields by opening the .csv file in Notepad. It was “;” in my case, but can also be “,” etc.\n",
    "    * If you have empty cells (i.e. “\\N” cells) in the last column you might get the error if you use “LINES TERMINATED BY '\\n'. Use LINES TERMINATED BY '\\r\\n' instead.\n",
    "    * “IGNORE 1 rows;” ignores the header row, since you already added headers when creating the table.\n",
    "\n",
    "### 11.\tCheck whether the data was loaded correctly using \n",
    "* mysql> SELECT * FROM main\n",
    "    <br>      -> LIMIT 10;\n"
   ]
  },
  {
   "cell_type": "markdown",
   "id": "8c684a25",
   "metadata": {},
   "source": [
    "***"
   ]
  },
  {
   "cell_type": "markdown",
   "id": "03732fef",
   "metadata": {},
   "source": [
    "# Option 2: Upload data from .csv file using MySQL Workbench"
   ]
  },
  {
   "cell_type": "markdown",
   "id": "8fccad7e",
   "metadata": {},
   "source": [
    "### 1.Open MySQL 8.0 workbench \n",
    "\n",
    "### 2.Double click on the Local instance MySQL80 (grey block)\n",
    "* Enter password\n",
    "\n",
    "### 3.Create the database (if it hasn’t been created previously), using the following command in the query tab:\n",
    "* CREATE DATABASE test; \n",
    "\n",
    "### 4.Tell MySQL to use that database\n",
    "* USE test;\n",
    "\n",
    "### 5.Use the Table Data import wizard:\n",
    "* Open the relevant database in the “schemas tab” by clicking on the arrow next to it\n",
    "* Right click on “Tables” and select the “Table Data Import Wizard”\n",
    "* Browse for the file location and select the .csv file\n",
    "* Click “open” and then “next”\n",
    "* Select “Create new table”, select the correct database (if not already selected) and name the file\n",
    "* The wizard will then automatically import the column names and suggested data types (termed “field type” here). This is a major time-saving step, compared to option 1 above!\n",
    "* Check that you are satisfied with the data types and select “next”\n",
    "* Select “next” to execute the import.\n"
   ]
  },
  {
   "cell_type": "markdown",
   "id": "7f12cab2",
   "metadata": {},
   "source": [
    "***"
   ]
  },
  {
   "cell_type": "markdown",
   "id": "4b8fcec1",
   "metadata": {},
   "source": [
    "# Option 3: Upload data from .txt file using MySQL 8.0 Command line client"
   ]
  },
  {
   "cell_type": "markdown",
   "id": "d2bd9ea2",
   "metadata": {},
   "source": [
    "* Data is sometimes stored in text files (.txt) instead of .csv files, but the MySQL “Table Data import wizard” does not allow you to select a .txt file. \n",
    "* There are various ways to get past this obstacle. \n",
    "    * If the .txt file is small: you can copy and paste the content of the .txt file into Microsoft Excel, use “text to columns” to split the text into columns, save the file as a .csv and upload it using option 1 or 2 above. \n",
    "    * But of the .txt file is very large the content will be too much for the Excel grid and some data will be lost. \n",
    "    * There is another way to import the .txt file data (see https://stacktuts.com/how-to-import-data-from-text-file-to-mysql-database), but you need to create the table manually, which will take a long time.  \n",
    "    * I, therefore, recommend using MySQL 8.0 Command line.\n",
    "\n",
    "### 1.Prepare a Microsoft Word or Notepad document with the variable names and their data types\n",
    "* The document should have the following format: variable1 DATATYPE, variable2 DATATYPE, etc.\n",
    "* See here for more info about the different data types in mySQL:\n",
    "* https://dev.mysql.com/doc/refman/8.0/en/data-types.html\n",
    "* See https://dev.mysql.com/doc/refman/8.0/en/numeric-types.html for more information about storage implications for the different data types.\n",
    "* Check you file for formatting issues, such as double spaces etc. This will save you a lot of effort later. \n",
    "\n",
    "### 2.Open MySQL 8.0 command line client\n",
    "* Enter password\n",
    "\n",
    "### 3.Create a mySQL database (if it hasn’t been created previously) using the following command:\n",
    "* mysql> CREATE DATABASE test;\n",
    "\n",
    "### 4.Check whether the database was created correctly (optional)\n",
    "* mysql> SHOW DATABASES ;\n",
    "\n",
    "### 5.Tell mySQL to use that database\n",
    "* mysql> USE test;\n",
    "\n",
    "### 6.Create a table in the database (This can be a very tedious and lengthy step, depending on the size of the database)\n",
    "* mysql> CREATE TABLE tablename (variable1 DATATYPE, variable2 DATATYPE, etc.);\n",
    "* Use the “variable name and data type” document you prepared earlier to copy the list directly into the statement.\n",
    "\n",
    "### 7.Check whether the table was created \n",
    "* mysql> DESCRIBE tablename; \n",
    "\n",
    "### 8.Load the data from the .txt file into the database\n",
    "* mysql> LOAD DATA INFILE 'file path.txt’\n",
    "<br>      -> INTO TABLE tablename\n",
    "<br>      -> FIELDS TERMINATED BY ';'\n",
    "<br>      -> LINES TERMINATED BY '\\n'\n",
    "<br>      -> IGNORE 1 rows;\n",
    "    * Remember to use / , not \\ in the file path\n",
    "    * You can check which character is used to terminate your fields by opening the .txt file in Notepad. It can also be “,” etc.\n",
    "    * If you have empty cells (i.e. “\\N” cells) in the last column you might get the error if you use “LINES TERMINATED BY '\\n'. Use LINES TERMINATED BY '\\r\\n' instead.\n",
    "    * “IGNORE 1 rows;” ignores the header row, since you already added headers when creating the table.\n",
    "\n",
    "### 9.Check whether the data was loaded correctly using \n",
    "* mysql> SELECT * FROM main\n",
    "<br>      -> LIMIT 10;\n"
   ]
  }
 ],
 "metadata": {
  "kernelspec": {
   "display_name": "Python 3 (ipykernel)",
   "language": "python",
   "name": "python3"
  },
  "language_info": {
   "codemirror_mode": {
    "name": "ipython",
    "version": 3
   },
   "file_extension": ".py",
   "mimetype": "text/x-python",
   "name": "python",
   "nbconvert_exporter": "python",
   "pygments_lexer": "ipython3",
   "version": "3.9.12"
  }
 },
 "nbformat": 4,
 "nbformat_minor": 5
}
